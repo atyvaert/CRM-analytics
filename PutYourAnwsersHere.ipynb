{
 "cells": [
  {
   "cell_type": "code",
   "execution_count": 1,
   "metadata": {},
   "outputs": [],
   "source": [
    "from os import access\n",
    "import pandas as pd\n",
    "import numpy as np\n",
    "import datetime\n",
    "from pandas.core.reshape.concat import concat"
   ]
  },
  {
   "cell_type": "code",
   "execution_count": 2,
   "metadata": {},
   "outputs": [],
   "source": [
    "#-------------------------------------------------------------------------------\n",
    "#-------------------------------------------------------------------------------\n",
    "#Prepping EmployeeData (HVC_AM0)\n",
    "#-------------------------------------------------------------------------------\n",
    "#-------------------------------------------------------------------------------\n",
    "\n",
    "\n",
    "#Reading the file and storing each line in the list text\n",
    "with open (\"C:/Users/HP/Desktop/Dev.Maarten/Python/Project/Data/HVC_AM0.csv\", \"r\") as f:\n",
    "    textEmployees = f.readlines()\n",
    "textEmployees.pop(0)\n",
    "\n",
    "#We make a dictionnary based on the data\n",
    "CompanyEmployeesDict = {}\n",
    "\n",
    "for e in textEmployees:\n",
    "    Employee_ID, EmployeeNumber, Name, Postcode, Location, Language = e.replace(\"\\n\",\"\").split(\";\")\n",
    "    Employee_ID=int(Employee_ID)\n",
    "    Postcode=int(Postcode)\n",
    "    CompanyEmployeesDict[Employee_ID]= {\"EmployeeNumber\":EmployeeNumber,\"Name\": Name, \"Postcode\": Postcode, \"Location\": Location,\"Language\": Language }\n",
    "\n",
    "\n",
    "#Some Employees do not have a EmployeeNumber: We set the EmployeeNumber of these employees to 0\n",
    "#In this way we can convert all to a float\n",
    "for e in CompanyEmployeesDict:\n",
    "    E_ID = CompanyEmployeesDict[e][\"EmployeeNumber\"]\n",
    "    if(E_ID == \"\"):\n",
    "        CompanyEmployeesDict[e][\"EmployeeNumber\"]=\"0\"\n",
    "    CompanyEmployeesDict[e][\"EmployeeNumber\"] = int(float(CompanyEmployeesDict[e][\"EmployeeNumber\"]))   \n",
    "\n",
    "df_CompanyEmployees = pd.DataFrame.from_dict(CompanyEmployeesDict, orient = 'index')\n",
    "\n",
    "\n",
    "#-------------------------------------------------------------------------------\n",
    "#-------------------------------------------------------------------------------\n",
    "#Prepping ProductData (HVC_AR0)\n",
    "#-------------------------------------------------------------------------------\n",
    "#-------------------------------------------------------------------------------\n",
    "\n",
    "\n",
    "with open (\"C:/Users/HP/Desktop/Dev.Maarten/Python/Project/Data/HVC_AR0.csv\", \"r\") as f:\n",
    "    textProducts = f.readlines()\n",
    "textProducts.pop(0)\n",
    "\n",
    "CompanyProductsDict = {}\n",
    "for e in textProducts:\n",
    "    ProductID, Description, Category, Family, Price = e.replace(\"\\n\",\"\").split(\";\")\n",
    "    ProductID = int(ProductID)\n",
    "    CompanyProductsDict[ProductID]= {\"Description\":Description,\"Category\": Category, \"Family\": Family, \"Price\": Price}\n",
    "   \n",
    "#Some prices are missing   \n",
    "for e in CompanyProductsDict:\n",
    "  PriceCheck = CompanyProductsDict[e][\"Price\"]\n",
    "  if(PriceCheck==\"\"):\n",
    "        CompanyProductsDict[e][\"Price\"]=\"0.0\"\n",
    "  CompanyProductsDict[e][\"Price\"]=float(CompanyProductsDict[e][\"Price\"])  \n",
    "\n",
    "#Whenever they are Coupons they are not assigned a family\n",
    "#We assign Coupon to its Family for clearity\n",
    "for e in CompanyProductsDict:\n",
    "  PriceCheck = CompanyProductsDict[e][\"Family\"]\n",
    "  if(PriceCheck==\"\"):\n",
    "        CompanyProductsDict[e][\"Family\"]=\"Coupon\"\n",
    "\n",
    "df_Products = pd.DataFrame.from_dict(CompanyProductsDict, orient = 'index')\n",
    "\n",
    "\n",
    "#-------------------------------------------------------------------------------\n",
    "#-------------------------------------------------------------------------------\n",
    "#Prepping Reviews Data (HVC_CUSTOMER_REVIEWS)\n",
    "#-------------------------------------------------------------------------------\n",
    "#-------------------------------------------------------------------------------   \n",
    "\n",
    "\n",
    "with open (\"C:/Users/HP/Desktop/Dev.Maarten/Python/Project/Data/HVC_CUSTOMER_REVIEWS.csv\", \"r\") as f:\n",
    "    textCustReviews = f.readlines()\n",
    "textCustReviews.pop(0)\n",
    "\n",
    "CompanyReviewsDict = {}\n",
    "for e in textCustReviews:\n",
    "    CustomerID, Review  = e.replace(\"\\n\",\"\").split(\";\")\n",
    "    CustomerID = int(CustomerID)\n",
    "    CompanyReviewsDict[CustomerID]= {\"Review\": Review}\n",
    "\n",
    "df_Reviews = pd.DataFrame.from_dict(CompanyReviewsDict, orient = 'index')\n",
    "\n",
    "\n",
    "#-------------------------------------------------------------------------------\n",
    "#-------------------------------------------------------------------------------\n",
    "#Prepping Depot data (HVC_DEPOT)\n",
    "#-------------------------------------------------------------------------------\n",
    "#-------------------------------------------------------------------------------\n",
    "\n",
    "\n",
    "#Reading the file and storing each line in the list text\n",
    "with open (\"C:/Users/HP/Desktop/Dev.Maarten/Python/Project/Data/HVC_DEPOT.csv\", \"r\") as f:\n",
    "    text_Depot = f.readlines()\n",
    "text_Depot.pop(0)\n",
    "\n",
    "#We make a dictionnary based on the data\n",
    "Depot_Dict = {}\n",
    "\n",
    "for dep in text_Depot:\n",
    "    Depot_Id, Depot_Location, Depot_Route = dep.replace(\"\\n\",\"\").split(\";\")\n",
    "    Depot_Id = int(Depot_Id)\n",
    "    Depot_Route = int(Depot_Route)\n",
    "    Depot_Dict[Depot_Id] = {\"DEPOT\":Depot_Location, \"HVROUTETEMPLATE_NRID\":Depot_Route}\n",
    "\n",
    "#The Depot_Id and HVROUTETEMPLATE_NRID are both integers, Depot_Location\n",
    "#The names of the keys are based on the table descriptions for easy looking up in case of further calculations\n",
    "#There are no missing values in our dictionnary so further preprocessing is not necessary.\n",
    "\n",
    "df_Depot = pd.DataFrame.from_dict(Depot_Dict, orient = 'index')\n",
    "\n",
    "\n",
    "#-------------------------------------------------------------------------------\n",
    "#-------------------------------------------------------------------------------\n",
    "#Prepping DaysOfWeek (HVC_HVDAYOFWEEK)\n",
    "#-------------------------------------------------------------------------------\n",
    "#-------------------------------------------------------------------------------\n",
    "\n",
    "\n",
    "with open (\"C:/Users/HP/Desktop/Dev.Maarten/Python/Project/Data/HVC_HVDAYOFWEEK.csv\", \"r\") as f:\n",
    "    text_DayOfWeek = f.readlines()\n",
    "text_DayOfWeek.pop(0)\n",
    "\n",
    "#We make a dictionnary based on the data\n",
    "DayOfWeek_Dict = {}\n",
    "\n",
    "for day in text_DayOfWeek:\n",
    "    HVDAYOFWEEK_NRID, DAY = day.replace(\"\\n\",\"\").split(\";\")\n",
    "    HVDAYOFWEEK_NRID = int(float(HVDAYOFWEEK_NRID))\n",
    "    DayOfWeek_Dict[int(HVDAYOFWEEK_NRID)] = DAY\n",
    "\n",
    "\n",
    "#The HVDAYOFWEEK_NRID is an integer, DAY is a string. \n",
    "#!! important notice for further caclulations, the first day (day with id = 1) is a sunday! Not a monday!\n",
    "df_DaysOfWeek = pd.DataFrame.from_dict(DayOfWeek_Dict, orient = 'index')\n",
    "\n",
    "\n",
    "#-------------------------------------------------------------------------------\n",
    "#-------------------------------------------------------------------------------\n",
    "#Prepping Position data (HVC_HVPOSITION)\n",
    "#-------------------------------------------------------------------------------\n",
    "#-------------------------------------------------------------------------------\n",
    "\n",
    "\n",
    "with open (\"C:/Users/HP/Desktop/Dev.Maarten/Python/Project/Data/HVC_HVPOSITION.csv\", \"r\") as f:\n",
    "    text_Position = f.readlines()\n",
    "text_Position.pop(0)\n",
    "\n",
    "#We make a dictionnary based on the data\n",
    "Position_Dict = {}\n",
    "\n",
    "for loc in text_Position:\n",
    "    SO0_NRID, LONG, LAT = loc.replace(\"\\n\",\"\").split(\";\")\n",
    "    SO0_NRID = int(float(SO0_NRID))\n",
    "    LONG = float(LONG)\n",
    "    LAT = float(LAT)\n",
    "    Position_Dict[SO0_NRID] = {\"LONG\":LONG, \"LAT\":LAT}\n",
    "\n",
    "#SO0_NRID is int, LONG and LAT are both float values.\n",
    "\n",
    "df_Position = pd.DataFrame.from_dict(Position_Dict, orient = 'index')\n",
    "\n",
    "\n",
    "#-------------------------------------------------------------------------------\n",
    "#-------------------------------------------------------------------------------\n",
    "#Prepping Route Template data (HVC_HVROUTETEMPLATE)\n",
    "#-------------------------------------------------------------------------------\n",
    "#-------------------------------------------------------------------------------\n",
    "\n",
    "\n",
    "with open (\"C:/Users/HP/Desktop/Dev.Maarten/Python/Project/Data/HVC_HVROUTETEMPLATE.csv\", \"r\") as f:\n",
    "    textRouteTemplate = f.readlines()\n",
    "    textRouteTemplate.pop(0)\n",
    "    \n",
    "RouteTemplate_Dict = {}\n",
    "\n",
    "for route in textRouteTemplate:\n",
    "    HVROUTETEMPLATE_NRID, REGION, WEEKORDER, HVDAYOFWEEK_NRID = route.replace(\"\\n\",\"\").split(\";\")\n",
    "    HVROUTETEMPLATE_NRID=int(float(HVROUTETEMPLATE_NRID))\n",
    "    RouteTemplate_Dict[HVROUTETEMPLATE_NRID] = {\"REGION\": REGION, \"WEEKORDER\": WEEKORDER, \"DAYOFWEEK_NRID\": HVDAYOFWEEK_NRID}        \n",
    "\n",
    "df_RouteTemplate = pd.DataFrame.from_dict(RouteTemplate_Dict, orient = 'index')\n",
    "\n",
    "\n",
    "#-------------------------------------------------------------------------------\n",
    "#-------------------------------------------------------------------------------\n",
    "#Prepping Visit Outcome data (HVC_HVVISITOUTCOME)\n",
    "#-------------------------------------------------------------------------------\n",
    "#-------------------------------------------------------------------------------\n",
    "\n",
    "\n",
    "with open (\"C:/Users/HP/Desktop/Dev.Maarten/Python/Project/Data/HVC_HVVISITOUTCOME.csv\", \"r\") as f:\n",
    "    textVisitOutcome = list()\n",
    "    for line in f:\n",
    "        line = line.replace(\"\\n\",\"\")\n",
    "        obs = line.split(\";\")\n",
    "        textVisitOutcome.append(obs)\n",
    "\n",
    "column_names = textVisitOutcome[0]\n",
    "textVisitOutcome.pop(0)\n",
    "VisitOucome_Dict = {}\n",
    "\n",
    "for visit in textVisitOutcome:\n",
    "    VisitOucome_Dict[visit[1]] = visit[0]\n",
    "\n",
    "\n",
    "df_VisitOutcome = pd.DataFrame.from_dict(VisitOucome_Dict, orient = 'index')\n",
    "\n",
    "\n",
    "#-------------------------------------------------------------------------------\n",
    "#-------------------------------------------------------------------------------\n",
    "#Prepping TransactionData (HVC_HVVISITRESULT)\n",
    "#-------------------------------------------------------------------------------\n",
    "#-------------------------------------------------------------------------------\n",
    "\n",
    "\n",
    "#Reading the file and storing each line in the list text\n",
    "with open (\"C:/Users/HP/Desktop/Dev.Maarten/Python/Project/Data/HVC_HVVISITRESULT.csv\", \"r\") as f:\n",
    "    textVisit = f.readlines()\n",
    "textVisit.pop(0)\n",
    "\n",
    "#We make a dictionnary based on the data\n",
    "CompanyVisitDict = {}\n",
    "\n",
    "for e in textVisit:\n",
    "    Visit_ID, Customer_ID, Employee_ID, VisitOutcome_ID, Time, Date, Amount, paymentMethod = e.replace(\"\\n\",\"\").split(\";\")\n",
    "    Visit_ID= int(Visit_ID)\n",
    "\n",
    "    yYear, mMonth, dDay = Date.split(\"-\")\n",
    "    yYear = int(yYear)\n",
    "    mMonth = int(mMonth)\n",
    "    dDay = int(dDay)\n",
    "    Date=datetime.date(yYear,mMonth,dDay)\n",
    "\n",
    "    Customer_ID= int(Customer_ID)\n",
    "    Employee_ID= int(Employee_ID)\n",
    "    VisitOutcome_ID= int(VisitOutcome_ID)\n",
    "    Amount= float(Amount)\n",
    "    CompanyVisitDict[Visit_ID]= {\"Customer_ID\":Customer_ID,\"Employee_ID\": Employee_ID, \"VisitOutcome_ID\": VisitOutcome_ID, \"Time\": Time,\"Date\": Date, \"Amount\": Amount, \"paymentMethod\": paymentMethod }\n",
    "\n",
    "#Some visits do not have a payment method recorded: We set the paymentMethod of these cases to the None variable\n",
    "#Maybe these missing values will have value later on\n",
    "for e in CompanyVisitDict:\n",
    "    P_method = CompanyVisitDict[e][\"paymentMethod\"]\n",
    "    if(P_method == \"\"):\n",
    "        CompanyVisitDict[e][\"paymentMethod\"]= None\n",
    "\n",
    "df_CompanyVisit = pd.DataFrame.from_dict(CompanyVisitDict, orient = 'index')\n",
    "\n",
    "#-------------------------------------------------------------------------------\n",
    "#-------------------------------------------------------------------------------\n",
    "#Prepping EmployeeData (HVC_SO0)\n",
    "#-------------------------------------------------------------------------------\n",
    "#-------------------------------------------------------------------------------\n",
    "\n",
    "\n",
    "#Reading the file and storing each line in the list text\n",
    "with open (\"C:/Users/HP/Desktop/Dev.Maarten/Python/Project/Data/HVC_SO0.csv\", \"r\") as f:\n",
    "    textCustomerType = f.readlines()\n",
    "textCustomerType.pop(0)\n",
    "\n",
    "#We make a dictionnary based on the data\n",
    "CustomerTypeDict = {}\n",
    "\n",
    "for e in textCustomerType:\n",
    "    Customer_ID, RouteTemplate_ID, CustomerType, Postcode, Language, Season = e.replace(\"\\n\",\"\").split(\";\")\n",
    "    Customer_ID=int(float(Customer_ID))\n",
    "    RouteTemplate_ID=int(float(RouteTemplate_ID))\n",
    "    CustomerTypeDict[Customer_ID]= {\"RouteTemplate_ID\":RouteTemplate_ID,\"CustomerType\": CustomerType, \"Postcode\": Postcode, \"Language\": Language,\"Season\": Season}\n",
    "\n",
    "\n",
    "df_CustomerType = pd.DataFrame.from_dict(CustomerTypeDict, orient = 'index')\n",
    "\n",
    "#-------------------------------------------------------------------------------\n",
    "#-------------------------------------------------------------------------------\n",
    "#Prepping ProductData (HVC_VISITRESULTDETAILS)\n",
    "#-------------------------------------------------------------------------------\n",
    "#-------------------------------------------------------------------------------\n",
    "\n",
    "\n",
    "with open (\"C:/Users/HP/Desktop/Dev.Maarten/Python/Project/Data/HVC_VISITRESULTDETAILS.csv\", \"r\") as f:\n",
    "    textVisitDetails = f.readlines()\n",
    "textVisitDetails.pop(0)\n",
    "\n",
    "\n",
    "#We make a dictionnary based on the data\n",
    "VisitDetailsDict = {}\n",
    "\n",
    "\n",
    "for e in textVisitDetails:\n",
    "    VisitDetails_ID, Product_ID, Quantity, Visit_ID = e.replace(\"\\n\",\"\").split(\";\")\n",
    "    VisitDetails_ID=int(VisitDetails_ID)\n",
    "    Product_ID=int(Product_ID)\n",
    "    Quantity=int(float(Quantity))\n",
    "    Visit_ID=int(float(Visit_ID))\n",
    "    VisitDetailsDict[VisitDetails_ID]= {\"Product_ID\":Product_ID,\"Quantity\": Quantity, \"Visit_ID\": Visit_ID}\n",
    "\n",
    "df_VisitDetails = pd.DataFrame.from_dict(VisitDetailsDict, orient = 'index')\n",
    "\n",
    "\n",
    "#---------------------------------------------------------------------------------------------------------------------------------------------------------------------------\n",
    "#This gives us the following 11 dataframes to work with:\n",
    "# 1  df_CompanyEmployees (HVC_AM0)\n",
    "# 2  df_Products (HVC_AR0)\n",
    "# 3  df_Reviews  (HVC_CUSTOMER_REVIEWS)\n",
    "# 4  df_Depot  (HVC_DEPOT)\n",
    "# 5  df_DaysOfWeek (HVC_HVDAYOFWEEK)\n",
    "# 6  df_Position (HVC_HVPOSiTION)\n",
    "# 7  df_RouteTemplate (HVC_HVROUTETEMPLATE)\n",
    "# 8  df_VisitOutcome (HVC_HVVISITOUTCOME)\n",
    "# 9  df_CompanyVisit (HVC_VISITRESULT)\n",
    "# 10 df_CustomerType (HVC_SO0)\n",
    "# 11 df_VisitDetails (HVC_VISITRESULTDETAILS)\n",
    "#---------------------------------------------------------------------------------------------------------------------------------------------------------------------------\n"
   ]
  },
  {
   "cell_type": "code",
   "execution_count": null,
   "metadata": {},
   "outputs": [],
   "source": [
    "###########################\n",
    "#Q1: What are the Products?\n",
    "###########################"
   ]
  },
  {
   "cell_type": "code",
   "execution_count": null,
   "metadata": {},
   "outputs": [],
   "source": [
    "#Q1.1 What are the most frequently bought products?"
   ]
  },
  {
   "cell_type": "code",
   "execution_count": null,
   "metadata": {},
   "outputs": [],
   "source": [
    "#Q1.2 Which products render the most revenue?"
   ]
  },
  {
   "cell_type": "code",
   "execution_count": null,
   "metadata": {},
   "outputs": [],
   "source": [
    "#Q1.3 Are product purchases correlated? Are some products often purchased together?"
   ]
  },
  {
   "cell_type": "code",
   "execution_count": null,
   "metadata": {},
   "outputs": [],
   "source": [
    "#Q1.4 What are the total sales generated for each product family?"
   ]
  },
  {
   "cell_type": "code",
   "execution_count": null,
   "metadata": {},
   "outputs": [],
   "source": [
    "#Q1.5 Does the weather / seasonal changes have an effect on the total revenue?"
   ]
  },
  {
   "cell_type": "code",
   "execution_count": null,
   "metadata": {},
   "outputs": [],
   "source": [
    "##########################\n",
    "#Q2 Who are the customers?\n",
    "##########################"
   ]
  },
  {
   "cell_type": "code",
   "execution_count": 3,
   "metadata": {},
   "outputs": [
    {
     "name": "stdout",
     "output_type": "stream",
     "text": [
      "                RouteTemplate_ID CustomerType Postcode Language    Season\n",
      "721104                 219020601      Private     3930    nl-BE  All time\n",
      "721110                 219020601      Private     3930    nl-BE  All time\n",
      "721121                 219020601      Private     3930    nl-BE  All time\n",
      "721126                 219020601      Private     3930    nl-BE  All time\n",
      "721131                 219020601      Private     3930    nl-BE  All time\n",
      "...                          ...          ...      ...      ...       ...\n",
      "26651656233234         219020601       Horeca     3930    nl-BE  All time\n",
      "26707966298860         289760478       Horeca     3650    nl-BE  All time\n",
      "26869549647542         289760478      Private     3680    nl-BE  All time\n",
      "26959353239340         289418953      Private     3550    nl-BE  All time\n",
      "26961148104438         219024456      Private     3950    nl-BE  All time\n",
      "\n",
      "[5709 rows x 5 columns]\n"
     ]
    }
   ],
   "source": [
    "#Q2.1 What do the customers buy?\n",
    "Aureum = df_VisitDetails.groupby(\"Product_ID\")[\"Quantity\"].sum()\n",
    "newAU = pd.merge(Aureum, df_Products, how=\"left\", on=Aureum.keys())\n",
    "Revenue = newAU[\"Price\"]*newAU[\"Quantity\"]\n",
    "newAU[\"RevenueProduct\"] = Revenue\n",
    "\n",
    "#Best products based on revenue\n",
    "BestRevProducts = newAU.sort_values(by=\"RevenueProduct\", ascending=False)\n",
    "\n",
    "#Most products sold in ammount\n",
    "BestAmountSoldProducts = newAU.sort_values(by=\"Quantity\", ascending=False)\n",
    "\n",
    "#Based on Family\n",
    "#Generated Revenue\n",
    "BestRevFamily=BestRevProducts.groupby(\"Family\")[\"RevenueProduct\"].sum().sort_values(ascending=False)\n",
    "\n",
    "#Based on Family\n",
    "#Amount sold\n",
    "BestAmountFamily=BestAmountSoldProducts.groupby(\"Family\")[\"Quantity\"].sum().sort_values(ascending=False)\n",
    "#Based on Catogery\n",
    "#Generated Revenue\n",
    "BestRevCat=BestRevProducts.groupby(\"Category\")[\"RevenueProduct\"].sum().sort_values(ascending=False)\n",
    "\n",
    "#Based on Catogery\n",
    "#Amount sold\n",
    "BestAmountCat=BestRevProducts.groupby(\"Category\")[\"Quantity\"].sum().sort_values(ascending=False)"
   ]
  },
  {
   "cell_type": "code",
   "execution_count": null,
   "metadata": {},
   "outputs": [],
   "source": [
    "#Q2.2 Which customers left the company?\n",
    "mostRecent= max(df_CompanyVisit[\"Date\"]) - datetime.timedelta(0)\n",
    "mostRecentTest = mostRecent - datetime.timedelta(182)\n",
    "df_CompanyVisit[\"LastVisit\"]= datetime.date.today() - df_CompanyVisit[\"Date\"]\n",
    "def isOk(dateCh: datetime.date):\n",
    "    if((mostRecent-dateCh)> (mostRecent-mostRecentTest)):\n",
    "        return True\n",
    "    else:\n",
    "        return False\n",
    "df_CompanyVisit[\"Churn?\"]=df_CompanyVisit[\"Date\"].apply(isOk)        \n",
    "print(df_CompanyVisit.head(5))"
   ]
  },
  {
   "cell_type": "code",
   "execution_count": null,
   "metadata": {},
   "outputs": [],
   "source": [
    "#Q2.3 Which customers have the highest CLV?\n",
    "df_OnlySuccesFullVisits= df_CompanyVisit[df_CompanyVisit[\"VisitOutcome_ID\"] == 2]\n",
    "df_OnlySuccesFullVisits= df_OnlySuccesFullVisits.sort_values(\"Customer_ID\")\n",
    "#We sum the amounts of money spent per Customer_ID and this gives us after sorting the CLV of all Customers in descending order\n",
    "df_CLV=df_OnlySuccesFullVisits.groupby(\"Customer_ID\")[\"Amount\"].sum().sort_values(ascending=False)\n",
    "#print(df_CLV.head(50))"
   ]
  },
  {
   "cell_type": "code",
   "execution_count": null,
   "metadata": {},
   "outputs": [],
   "source": [
    "#Q2.4 What is the relationship between leaving the company and buying patterns?"
   ]
  },
  {
   "cell_type": "code",
   "execution_count": null,
   "metadata": {},
   "outputs": [],
   "source": [
    "#Q2.5 Are there clusters of customers? How would you describe these different clusters?"
   ]
  },
  {
   "cell_type": "code",
   "execution_count": null,
   "metadata": {},
   "outputs": [],
   "source": [
    "#Q2.6 Do customers have different buying patterns during the weekend?\n",
    "\n",
    "#This method uses the weekday function to determine the day of the week starting \n",
    "#At 0 for Monday and ending on 6 for Sunday for a given month and year\n",
    "#In this way if the returned number is larger than 4 (Friday) it is a weekendDay\n",
    "def getWeekIndex(d: datetime.date):\n",
    "    if(d.weekday()>4):\n",
    "        return \"weekend\"\n",
    "    else:\n",
    "        return \"weekday\"\n",
    "\n",
    "#We add a new Column explaining wheter it is a weekday or weekend based on the Date index\n",
    "df_CompanyVisit[\"DateIndex\"] = df_CompanyVisit[\"Date\"].apply(getWeekIndex)\n",
    "df_CompanyVisit[\"Visit_ID\"] = df_CompanyVisit.index\n",
    "\n",
    "CompleteMerge = pd.merge(df_VisitDetails, df_CompanyVisit, on=\"Visit_ID\")\n",
    "\n",
    "\n",
    "df_Products[\"Product_ID\"] = df_Products.index\n",
    "CompleteMergeProd = pd.merge(CompleteMerge,df_Products, on=\"Product_ID\").drop(columns=[\"paymentMethod\", \"Amount\", \"Time\"])\n",
    "CompleteMergeProd[\"Revenue\"]=CompleteMergeProd[\"Quantity\"]*CompleteMergeProd[\"Price\"]\n",
    "\n",
    "OnlyWeekdays= CompleteMergeProd[CompleteMergeProd[\"DateIndex\"] != \"weekend\"]\n",
    "OnlyWeekends= CompleteMergeProd[CompleteMergeProd[\"DateIndex\"] != \"weekday\"]\n",
    "\n",
    "OnlyWeekdaysCus = OnlyWeekdays.groupby([\"Customer_ID\",\"DateIndex\"])[\"Revenue\"].sum()\n",
    "OnlyWeekendsCus = OnlyWeekends.groupby([\"Customer_ID\",\"DateIndex\"])[\"Revenue\"].sum()\n",
    "Comparison = pd.merge(OnlyWeekendsCus,OnlyWeekdaysCus, on=\"Customer_ID\")\n",
    "\n",
    "#X is weekends Y is weekdays\n",
    "#This shows the difference in Revenue expressed in mean and other statistics\n",
    "#Comparing the weekend and \n",
    "#print(Comparison.describe())\n",
    "\n",
    "\n",
    "OnlyWeekdaysPro =  OnlyWeekdays.groupby([\"Product_ID\",\"DateIndex\"])[\"Revenue\"].sum()\n",
    "OnlyWeekendsPro =  OnlyWeekends.groupby([\"Product_ID\",\"DateIndex\"])[\"Revenue\"].sum()\n",
    "OnlyWeekdaysProMerged = pd.merge(OnlyWeekdaysPro,df_Products, on=\"Product_ID\").drop(columns=\"Price\")\n",
    "OnlyWeekendsProMerged =  pd.merge(OnlyWeekendsPro,df_Products, on=\"Product_ID\").drop(columns=\"Price\")\n",
    "\n",
    "OnlyWeekdaysProMergedFam =  pd.merge(OnlyWeekdaysPro,df_Products, how=\"left\",on=\"Product_ID\").drop(columns=\"Price\").groupby(\"Family\")[\"Revenue\"].sum()\n",
    "OnlyWeekendsProMergedFam =  pd.merge(OnlyWeekendsPro,df_Products, how=\"left\",on=\"Product_ID\").drop(columns=\"Price\").groupby(\"Family\")[\"Revenue\"].sum()\n",
    "\n",
    "#X is weekends Y is weekdays\n",
    "#This show what Family sells more during either weekend or weekday\n",
    "WeekendComparedFam = pd.merge(OnlyWeekendsProMergedFam,OnlyWeekdaysProMergedFam, on=\"Family\")\n",
    "#print(WeekendComparedFam)\n",
    "\n",
    "OnlyWeekdaysProMergedDes =  pd.merge(OnlyWeekdaysPro,df_Products, how=\"left\",on=\"Product_ID\").drop(columns=\"Price\").groupby(\"Description\")[\"Revenue\"].sum()\n",
    "OnlyWeekendsProMergedDes =  pd.merge(OnlyWeekendsPro,df_Products, how=\"left\",on=\"Product_ID\").drop(columns=\"Price\").groupby(\"Description\")[\"Revenue\"].sum()\n",
    "\n",
    "#X is weekends Y is weekdays\n",
    "#This show which products sell more during either weekend or weekday\n",
    "WeekendComparedDis= pd.merge(OnlyWeekendsProMergedDes,OnlyWeekdaysProMergedDes, on=\"Description\")"
   ]
  },
  {
   "cell_type": "code",
   "execution_count": null,
   "metadata": {},
   "outputs": [],
   "source": [
    "#Q2.7 Do customer sales differ across different cities? Is there a relationship between customer\n",
    "#sales and average income per inhabitant (and other factors)?\n",
    "\n",
    "df_CustomerType[\"CLV\"]=df_CLV\n",
    "df_CustomerType = df_CustomerType.dropna(axis=\"rows\")\n",
    "df_RouteTemplate[\"RouteTemplate_ID\"]=df_RouteTemplate.index\n",
    "\n",
    "\n",
    "#This compares CLV over all regions\n",
    "df_CLV_Route = pd.merge(df_CustomerType,df_RouteTemplate, on=\"RouteTemplate_ID\")\n",
    "df_CLV_Route_Region = df_CLV_Route.groupby(\"REGION\")[\"CLV\"].sum()\n",
    "#print(df_CLV_Route_Region)\n",
    "\n",
    "#Compares CLV over all Cities\n",
    "df_Depot=df_Depot.rename(columns={\"HVROUTETEMPLATE_NRID\": \"RouteTemplate_ID\"})\n",
    "df_CLV_Cities= pd.merge(df_CLV_Route,df_Depot,on=\"RouteTemplate_ID\").groupby(\"DEPOT\")[\"CLV\"].sum()\n",
    "#print(df_CLV_Cities.head(5))\n"
   ]
  },
  {
   "cell_type": "code",
   "execution_count": null,
   "metadata": {},
   "outputs": [],
   "source": [
    "##########################\n",
    "#Q3 Who are the employees?\n",
    "##########################"
   ]
  },
  {
   "cell_type": "code",
   "execution_count": null,
   "metadata": {},
   "outputs": [],
   "source": [
    "#Q3.1 What are the routes of the employees?"
   ]
  },
  {
   "cell_type": "code",
   "execution_count": null,
   "metadata": {},
   "outputs": [],
   "source": [
    "#Q3.2 What is the turnover for each employee?"
   ]
  },
  {
   "cell_type": "code",
   "execution_count": null,
   "metadata": {},
   "outputs": [],
   "source": [
    "########################\n",
    "#Q4 What are the routes?\n",
    "########################"
   ]
  },
  {
   "cell_type": "code",
   "execution_count": null,
   "metadata": {},
   "outputs": [],
   "source": [
    "#Q4.1 How are the customers divided into regions?"
   ]
  },
  {
   "cell_type": "code",
   "execution_count": null,
   "metadata": {},
   "outputs": [],
   "source": [
    "#Q4.2 Which customers are assigned to which routes?"
   ]
  },
  {
   "cell_type": "code",
   "execution_count": null,
   "metadata": {},
   "outputs": [],
   "source": [
    "#Q4.3 Which routes are assigned to which depots?"
   ]
  },
  {
   "cell_type": "code",
   "execution_count": null,
   "metadata": {},
   "outputs": [],
   "source": [
    "############################################\n",
    "#Q5 How can the company improve its service?\n",
    "############################################"
   ]
  },
  {
   "cell_type": "code",
   "execution_count": null,
   "metadata": {},
   "outputs": [],
   "source": [
    "#Q5.1 Which customers should be rewarded?"
   ]
  },
  {
   "cell_type": "code",
   "execution_count": null,
   "metadata": {},
   "outputs": [],
   "source": [
    "#Q5.2 Which employees should be rewarded?"
   ]
  },
  {
   "cell_type": "code",
   "execution_count": null,
   "metadata": {},
   "outputs": [],
   "source": [
    "#Q5.3 To which customers should the company send coupons in order to win them back?"
   ]
  },
  {
   "cell_type": "code",
   "execution_count": null,
   "metadata": {},
   "outputs": [],
   "source": [
    "#Q5.4 Are there factors that the company can change in order to decrease the churning rate?"
   ]
  },
  {
   "cell_type": "code",
   "execution_count": null,
   "metadata": {},
   "outputs": [],
   "source": [
    "#Q5.5 Would it be valuable to recommend (upsell / cross sell) products to a customer?"
   ]
  },
  {
   "cell_type": "code",
   "execution_count": null,
   "metadata": {},
   "outputs": [],
   "source": [
    "#Q5.6 Which employees should be assigned to different routes?"
   ]
  },
  {
   "cell_type": "code",
   "execution_count": null,
   "metadata": {},
   "outputs": [],
   "source": [
    "#Q5.7 Which routes should be reassigned to different depots?"
   ]
  },
  {
   "cell_type": "code",
   "execution_count": null,
   "metadata": {},
   "outputs": [],
   "source": [
    "#Q5.8 Which customers should be reassigned to different routes?"
   ]
  },
  {
   "cell_type": "code",
   "execution_count": null,
   "metadata": {},
   "outputs": [],
   "source": [
    "#Q5.9 Which depots should be removed? Where should the company create new depots?"
   ]
  },
  {
   "cell_type": "code",
   "execution_count": null,
   "metadata": {},
   "outputs": [],
   "source": [
    "#Q5.10 Which products should be added / removed from depots?"
   ]
  },
  {
   "cell_type": "code",
   "execution_count": null,
   "metadata": {},
   "outputs": [],
   "source": [
    "#Q5.11 Does customer satisfaction relate to different factors? Can the company respond to these\n",
    "#factors?"
   ]
  }
 ],
 "metadata": {
  "interpreter": {
   "hash": "1e915f0a29dc84041eaeb02b7b1a21c440e37a87b61d44d5e84a515737dc82bc"
  },
  "kernelspec": {
   "display_name": "Python 3.8.8 64-bit ('base': conda)",
   "name": "python3"
  },
  "language_info": {
   "codemirror_mode": {
    "name": "ipython",
    "version": 3
   },
   "file_extension": ".py",
   "mimetype": "text/x-python",
   "name": "python",
   "nbconvert_exporter": "python",
   "pygments_lexer": "ipython3",
   "version": "3.8.8"
  },
  "orig_nbformat": 4
 },
 "nbformat": 4,
 "nbformat_minor": 2
}

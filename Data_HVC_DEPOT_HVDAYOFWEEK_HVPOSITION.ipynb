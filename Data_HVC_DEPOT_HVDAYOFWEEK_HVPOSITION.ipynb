{
 "cells": [
  {
   "cell_type": "code",
   "execution_count": null,
   "id": "139c6db8",
   "metadata": {},
   "outputs": [],
   "source": [
    "#-------------------------------------------------------------------------------\n",
    "#-------------------------------------------------------------------------------\n",
    "#Prepping Depot data (HVC_DEPOT)\n",
    "#-------------------------------------------------------------------------------\n",
    "#-------------------------------------------------------------------------------\n"
   ]
  },
  {
   "cell_type": "code",
   "execution_count": 21,
   "id": "5d4f2e67",
   "metadata": {},
   "outputs": [],
   "source": [
    "#Reading the file and storing each line in the list text\n",
    "with open (\"D:/School/1e Master HiR/ACRM/Group Project/Data/HVC_DEPOT.csv\", \"r\") as f:\n",
    "    text_Depot = f.readlines()\n",
    "text_Depot.pop(0)\n",
    "\n",
    "#We make a dictionnary based on the data\n",
    "Depot_Dict = {}"
   ]
  },
  {
   "cell_type": "code",
   "execution_count": 22,
   "id": "0ddfff7c",
   "metadata": {},
   "outputs": [],
   "source": [
    "for dep in text_Depot:\n",
    "    Depot_Id, Depot_Location, Depot_Route = dep.replace(\"\\n\",\"\").split(\";\")\n",
    "    Depot_Id = int(Depot_Id)\n",
    "    Depot_Route = int(Depot_Route)\n",
    "    Depot_Dict[Depot_Id] = {\"DEPOT\":Depot_Location, \"HVROUTETEMPLATE_NRID\":Depot_Route}"
   ]
  },
  {
   "cell_type": "code",
   "execution_count": 24,
   "id": "7c4590b0",
   "metadata": {},
   "outputs": [],
   "source": [
    "#The Depot_Id and HVROUTETEMPLATE_NRID are both integers, Depot_Location\n",
    "#The names of the keys are based on the table descriptions for easy looking up in case of further calculations\n",
    "#There are no missing values in our dictionnary so further preprocessing is not necessary.\n"
   ]
  },
  {
   "cell_type": "code",
   "execution_count": null,
   "id": "50f9e4cf",
   "metadata": {},
   "outputs": [],
   "source": []
  },
  {
   "cell_type": "code",
   "execution_count": null,
   "id": "301d6c6b",
   "metadata": {},
   "outputs": [],
   "source": [
    "#-------------------------------------------------------------------------------\n",
    "#-------------------------------------------------------------------------------\n",
    "#Prepping DaysOfWeek (HVC_HVDAYOFWEEK)\n",
    "#-------------------------------------------------------------------------------\n",
    "#-------------------------------------------------------------------------------"
   ]
  },
  {
   "cell_type": "code",
   "execution_count": 36,
   "id": "ade1440f",
   "metadata": {},
   "outputs": [],
   "source": [
    "with open (\"D:/School/1e Master HiR/ACRM/Group Project/Data/HVC_HVDAYOFWEEK.csv\", \"r\") as f:\n",
    "    text_DayOfWeek = f.readlines()\n",
    "text_DayOfWeek.pop(0)\n",
    "\n",
    "#We make a dictionnary based on the data\n",
    "DayOfWeek_Dict = {}"
   ]
  },
  {
   "cell_type": "code",
   "execution_count": 41,
   "id": "839234c0",
   "metadata": {},
   "outputs": [],
   "source": [
    "for day in text_DayOfWeek:\n",
    "    HVDAYOFWEEK_NRID, DAY = day.replace(\"\\n\",\"\").split(\";\")\n",
    "    HVDAYOFWEEK_NRID = int(float(HVDAYOFWEEK_NRID))\n",
    "    DayOfWeek_Dict[int(HVDAYOFWEEK_NRID)] = DAY\n"
   ]
  },
  {
   "cell_type": "code",
   "execution_count": 43,
   "id": "d49ff732",
   "metadata": {
    "scrolled": true
   },
   "outputs": [],
   "source": [
    "#The HVDAYOFWEEK_NRID is an integer, DAY is a string. \n",
    "#!! important notice for further caclulations, the first day (day with id = 1) is a sunday! Not a monday!"
   ]
  },
  {
   "cell_type": "code",
   "execution_count": null,
   "id": "1432fbd9",
   "metadata": {},
   "outputs": [],
   "source": []
  },
  {
   "cell_type": "code",
   "execution_count": null,
   "id": "61c6bea4",
   "metadata": {},
   "outputs": [],
   "source": [
    "#-------------------------------------------------------------------------------\n",
    "#-------------------------------------------------------------------------------\n",
    "#Prepping Position data (HVC_HVPOSITION)\n",
    "#-------------------------------------------------------------------------------\n",
    "#-------------------------------------------------------------------------------\n"
   ]
  },
  {
   "cell_type": "code",
   "execution_count": 44,
   "id": "0474298d",
   "metadata": {},
   "outputs": [],
   "source": [
    "with open (\"D:/School/1e Master HiR/ACRM/Group Project/Data/HVC_HVPOSITION.csv\", \"r\") as f:\n",
    "    text_Position = f.readlines()\n",
    "text_Position.pop(0)\n",
    "\n",
    "#We make a dictionnary based on the data\n",
    "Position_Dict = {}"
   ]
  },
  {
   "cell_type": "code",
   "execution_count": 45,
   "id": "713e800c",
   "metadata": {},
   "outputs": [],
   "source": [
    "for loc in text_Position:\n",
    "    SO0_NRID, LONG, LAT = loc.replace(\"\\n\",\"\").split(\";\")\n",
    "    SO0_NRID = int(float(SO0_NRID))\n",
    "    LONG = float(LONG)\n",
    "    LAT = float(LAT)\n",
    "    Position_Dict[SO0_NRID] = {\"LONG\":LONG, \"LAT\":LAT}"
   ]
  },
  {
   "cell_type": "code",
   "execution_count": 47,
   "id": "51866cad",
   "metadata": {},
   "outputs": [],
   "source": [
    "#SO0_NRID is int, LONG and LAT are both float values."
   ]
  }
 ],
 "metadata": {
  "kernelspec": {
   "display_name": "Python 3",
   "language": "python",
   "name": "python3"
  },
  "language_info": {
   "codemirror_mode": {
    "name": "ipython",
    "version": 3
   },
   "file_extension": ".py",
   "mimetype": "text/x-python",
   "name": "python",
   "nbconvert_exporter": "python",
   "pygments_lexer": "ipython3",
   "version": "3.8.8"
  }
 },
 "nbformat": 4,
 "nbformat_minor": 5
}
